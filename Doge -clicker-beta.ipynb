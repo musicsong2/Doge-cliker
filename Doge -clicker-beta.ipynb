{
 "cells": [
  {
   "cell_type": "code",
   "execution_count": 19,
   "id": "2301adb0",
   "metadata": {
    "scrolled": false
   },
   "outputs": [],
   "source": [
    "import pygame\n",
    "import sys"
   ]
  },
  {
   "cell_type": "code",
   "execution_count": 20,
   "id": "cbe62276",
   "metadata": {},
   "outputs": [],
   "source": [
    "pygame.init()\n",
    "pygame.font.init()\n",
    "#350-400\n",
    "width=350; \n",
    "height=400. \n",
    "pygame.display.set_caption(\"Doge clicker\")\n",
    "bg_color = (255, 255, 255)\n",
    "screen = pygame.display.set_mode( (width, height ) )\n",
    "screen.fill(bg_color)\n",
    "pygame.display.flip()"
   ]
  },
  {
   "cell_type": "code",
   "execution_count": 21,
   "id": "20dac80d",
   "metadata": {
    "scrolled": true
   },
   "outputs": [],
   "source": [
    "doge = pygame.image.load(\"doge-2-white-2.jpg\").convert()"
   ]
  },
  {
   "cell_type": "code",
   "execution_count": 22,
   "id": "3236fbaa",
   "metadata": {
    "scrolled": true
   },
   "outputs": [],
   "source": [
    "x = 40\n",
    "y = 10\n",
    "screen.blit(doge ,  ( x,y))\n",
    "pygame.display.flip()"
   ]
  },
  {
   "cell_type": "code",
   "execution_count": 23,
   "id": "9d26b3b0",
   "metadata": {},
   "outputs": [],
   "source": [
    "black = (0, 0, 0)\n",
    "font = pygame.font.Font('OpenSans-Bold.ttf', 32)\n",
    "text = font.render('GeeksForGeeks', True, black)"
   ]
  },
  {
   "cell_type": "code",
   "execution_count": 24,
   "id": "5ee23171",
   "metadata": {},
   "outputs": [],
   "source": [
    "def clear():\n",
    "    screen.fill((0,0,0))\n",
    "    screen.fill(bg_color)\n",
    "    doge = pygame.image.load(\"doge-2-white-2.jpg\").convert()\n",
    "    x = 40\n",
    "    y = 10\n",
    "    screen.blit(doge ,  ( x,y))\n",
    "    pygame.display.flip()"
   ]
  },
  {
   "cell_type": "code",
   "execution_count": null,
   "id": "865bd987",
   "metadata": {},
   "outputs": [],
   "source": [
    "running = True\n",
    "score = 0\n",
    "textfont = pygame.font.SysFont(\"monospace\", 50)\n",
    "while (running):\n",
    "    for event in pygame.event.get():\n",
    "        if event.type == pygame.QUIT:\n",
    "            running = False\n",
    "        if event.type == pygame.MOUSEBUTTONDOWN:\n",
    "            x, y = event.pos\n",
    "            if doge.get_rect().collidepoint(x, y):\n",
    "                clear()\n",
    "                (score) += 1 \n",
    "                txtsurf = font.render(str((score)), True, black)\n",
    "                screen.blit(txtsurf, (0, 0))\n",
    "                pygame.display.update()\n",
    "                pygame.display.flip()\n",
    "                \n",
    "           \n",
    "                \n",
    "                \n",
    "    \n"
   ]
  }
 ],
 "metadata": {
  "kernelspec": {
   "display_name": "Python 3 (ipykernel)",
   "language": "python",
   "name": "python3"
  },
  "language_info": {
   "codemirror_mode": {
    "name": "ipython",
    "version": 3
   },
   "file_extension": ".py",
   "mimetype": "text/x-python",
   "name": "python",
   "nbconvert_exporter": "python",
   "pygments_lexer": "ipython3",
   "version": "3.9.13"
  }
 },
 "nbformat": 4,
 "nbformat_minor": 5
}
