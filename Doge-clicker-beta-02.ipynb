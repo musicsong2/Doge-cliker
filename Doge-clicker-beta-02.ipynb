{
 "cells": [
  {
   "cell_type": "code",
   "execution_count": 2,
   "id": "dc93e253",
   "metadata": {},
   "outputs": [],
   "source": [
    "import pygame"
   ]
  },
  {
   "cell_type": "code",
   "execution_count": null,
   "id": "fbc30203",
   "metadata": {},
   "outputs": [],
   "source": [
    "pygame.init()\n",
    "width=350;\n",
    "height=400\n",
    "screen = pygame.display.set_mode( (width, height ) )"
   ]
  },
  {
   "cell_type": "code",
   "execution_count": null,
   "id": "41d972d3",
   "metadata": {},
   "outputs": [],
   "source": [
    "pygame.display.set_caption('clicked on image')\n",
    "redSquare = pygame.image.load(\"images/red-square.png\").convert()"
   ]
  }
 ],
 "metadata": {
  "kernelspec": {
   "display_name": "Python 3 (ipykernel)",
   "language": "python",
   "name": "python3"
  },
  "language_info": {
   "codemirror_mode": {
    "name": "ipython",
    "version": 3
   },
   "file_extension": ".py",
   "mimetype": "text/x-python",
   "name": "python",
   "nbconvert_exporter": "python",
   "pygments_lexer": "ipython3",
   "version": "3.9.13"
  }
 },
 "nbformat": 4,
 "nbformat_minor": 5
}
